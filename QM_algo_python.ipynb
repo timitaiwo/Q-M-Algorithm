{
 "cells": [
  {
   "cell_type": "markdown",
   "id": "b64211ac-f4bc-4232-bada-8ae8dfcd032d",
   "metadata": {},
   "source": [
    "The aim of this project is to attempt implementing the Quine-McCluskey \n",
    "Algorithm in python independently."
   ]
  },
  {
   "cell_type": "code",
   "execution_count": 1,
   "id": "93a80558",
   "metadata": {},
   "outputs": [],
   "source": [
    "'''\n",
    "Create Classes for Minterms and Quine-McCluskey Algo\n",
    "'''\n",
    "class Minterm:\n",
    "    def __init__(self, decimal):\n",
    "        self.decimal = decimal\n",
    "        self.binary = bin(decimal)[2:]\n",
    "\n",
    "class Quine_McCluskey:\n",
    "    def __init__(self, minterms):\n",
    "        self.minterms = minterms\n"
   ]
  },
  {
   "cell_type": "code",
   "execution_count": 4,
   "id": "0542e74b",
   "metadata": {},
   "outputs": [
    {
     "data": {
      "text/plain": [
       "('10100', 20)"
      ]
     },
     "execution_count": 4,
     "metadata": {},
     "output_type": "execute_result"
    }
   ],
   "source": [
    "Minterm(20).binary, Minterm(20).decimal"
   ]
  },
  {
   "cell_type": "code",
   "execution_count": null,
   "id": "34119b7f",
   "metadata": {},
   "outputs": [],
   "source": []
  }
 ],
 "metadata": {
  "interpreter": {
   "hash": "6f5583cf1d9466b5c27e75c89cc6b383bed5736d6b16c51c8074d8690011a952"
  },
  "kernelspec": {
   "display_name": "Python 3.8.12 ('base')",
   "language": "python",
   "name": "python3"
  },
  "language_info": {
   "codemirror_mode": {
    "name": "ipython",
    "version": 3
   },
   "file_extension": ".py",
   "mimetype": "text/x-python",
   "name": "python",
   "nbconvert_exporter": "python",
   "pygments_lexer": "ipython3",
   "version": "3.8.12"
  }
 },
 "nbformat": 4,
 "nbformat_minor": 5
}
