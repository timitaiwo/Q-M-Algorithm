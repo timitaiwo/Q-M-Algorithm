{
 "cells": [
  {
   "cell_type": "markdown",
   "id": "b64211ac-f4bc-4232-bada-8ae8dfcd032d",
   "metadata": {},
   "source": [
    "The aim of this project is to attempt implementing the Quine-McCluskey \n",
    "Algorithm in python independently."
   ]
  },
  {
   "cell_type": "code",
   "execution_count": 1,
   "id": "72ae4f2e",
   "metadata": {},
   "outputs": [],
   "source": [
    "'''\n",
    "The first step is to define a function that converts a decimal number into\n",
    "it's binary format. This function would be used on the provided minterms.\n",
    "'''\n",
    "\n",
    "def decimal_to_binary(decimal):\n",
    "    \n",
    "    next_to_divide, remainder = decimal, None\n",
    "    binary = ''\n",
    "    \n",
    "    while next_to_divide > 0:\n",
    "        next_to_divide, remainder = divmod(next_to_divide, 2)\n",
    "        binary += str(remainder)\n",
    "        \n",
    "    return int(binary[::-1]) # Reverses the string and casts it as an integer"
   ]
  },
  {
   "cell_type": "code",
   "execution_count": 2,
   "id": "ae3d05f2-6422-42dd-8c77-a3a15d96c7af",
   "metadata": {},
   "outputs": [
    {
     "name": "stdout",
     "output_type": "stream",
     "text": [
      "The binary of 25 is 11001\n"
     ]
    }
   ],
   "source": [
    "print('The binary of 25 is', decimal_to_binary(25))\n",
    "\n",
    "# You should see 11001 as the binary output output"
   ]
  },
  {
   "cell_type": "code",
   "execution_count": null,
   "id": "94abb9f7-bc88-4c4e-bb00-d266437ab960",
   "metadata": {},
   "outputs": [],
   "source": []
  }
 ],
 "metadata": {
  "kernelspec": {
   "display_name": "Python 3",
   "language": "python",
   "name": "python3"
  },
  "language_info": {
   "codemirror_mode": {
    "name": "ipython",
    "version": 3
   },
   "file_extension": ".py",
   "mimetype": "text/x-python",
   "name": "python",
   "nbconvert_exporter": "python",
   "pygments_lexer": "ipython3",
   "version": "3.8.11"
  }
 },
 "nbformat": 4,
 "nbformat_minor": 5
}
